{
 "cells": [
  {
   "cell_type": "markdown",
   "metadata": {
    "colab_type": "text",
    "id": "xh92xbMkLy28"
   },
   "source": [
    "# Scraper for Twitter using Tweepy\n",
    "\n",
    "Package Github: https://github.com/tweepy/tweepy\n",
    "\n",
    "Package Documentation: https://tweepy.readthedocs.io/en/latest/\n",
    "\n",
    "Football api: https://www.jokecamp.com/blog/guide-to-football-and-soccer-data-and-apis/\n",
    "\n",
    "### Notebook Author: Diego González Maneyro"
   ]
  },
  {
   "cell_type": "code",
   "execution_count": 3,
   "metadata": {},
   "outputs": [],
   "source": [
    "# Pip install Tweepy if you don't already have the package\n",
    "# !pip install tweepy\n",
    "# !pip install pandas\n",
    "# !pip install matplotlib"
   ]
  },
  {
   "cell_type": "code",
   "execution_count": 2,
   "metadata": {
    "colab": {
     "base_uri": "https://localhost:8080/",
     "height": 213
    },
    "colab_type": "code",
    "id": "90OU2SDJL2Q9",
    "outputId": "89d239d4-dc97-43c7-fff0-cbbe793bf094"
   },
   "outputs": [],
   "source": [
    "# Imports\n",
    "import tweepy\n",
    "import pandas as pd\n",
    "import time\n",
    "import matplotlib\n",
    "import matplotlib.pyplot as plt\n",
    "import numpy as np"
   ]
  },
  {
   "cell_type": "markdown",
   "metadata": {
    "colab_type": "text",
    "id": "5q3dtxauP0KR"
   },
   "source": [
    "## Credentials and Authorization\n",
    "\n",
    "You need to set an app here --> https://developer.twitter.com/en/apps"
   ]
  },
  {
   "cell_type": "code",
   "execution_count": 3,
   "metadata": {
    "colab": {},
    "colab_type": "code",
    "id": "4NcOQy9XM5hR"
   },
   "outputs": [],
   "source": [
    "# Credentials\n",
    "\n",
    "ask to the SuperUser or in the credentials file",
    "\n",
    "auth = tweepy.OAuthHandler(consumer_key, consumer_secret)\n",
    "auth.set_access_token(access_token, access_token_secret)\n",
    "api = tweepy.API(auth,wait_on_rate_limit=True)"
   ]
  },
  {
   "cell_type": "markdown",
   "metadata": {
    "colab_type": "text",
    "id": "LvBbNQXgM3QI"
   },
   "source": [
    "## Query by Username\n",
    "Creation of queries using Tweepy API\n",
    "\n",
    "Function is focused on completing the query then providing a CSV file of that query using pandas"
   ]
  },
  {
   "cell_type": "code",
   "execution_count": 4,
   "metadata": {
    "colab": {},
    "colab_type": "code",
    "id": "fguMqU2ifc5h"
   },
   "outputs": [],
   "source": [
    "def username_tweets_to_csv(username,count):\n",
    "    tweets = []\n",
    "    try: \n",
    "    # Pulling individual tweets from query\n",
    "        for tweet in api.user_timeline(id=username, count=count):\n",
    "\n",
    "            # Adding to list that contains all tweets\n",
    "            tweets.append((tweet.created_at,tweet.id,tweet.text,tweet.retweet_count,tweet.favorite_count))\n",
    "\n",
    "            # Creation of dataframe from tweets list\n",
    "            tweetsdf = pd.DataFrame(tweets,columns=['Datetime', 'Tweet Id', 'Text', 'ReTweets', 'Favori'])\n",
    "\n",
    "            # Converting dataframe to CSV\n",
    "            tweetsdf.to_csv('{}-tweets_by_user.csv'.format(username)) \n",
    "\n",
    "    except BaseException as e:\n",
    "          print('failed on_status,',str(e))\n",
    "          time.sleep(3)"
   ]
  },
  {
   "cell_type": "markdown",
   "metadata": {
    "colab_type": "text",
    "id": "jFe9EonmM6u9"
   },
   "source": [
    "## Query by Text Search\n",
    "Function is focused on completing the query then providing a CSV file of that query using pandas"
   ]
  },
  {
   "cell_type": "code",
   "execution_count": 5,
   "metadata": {
    "colab": {},
    "colab_type": "code",
    "id": "1hOeCFq6M83k"
   },
   "outputs": [],
   "source": [
    "tweets = []\n",
    "\n",
    "def text_query_to_csv(text_query,count):\n",
    "    try:\n",
    "    # Pulling individual tweets from query\n",
    "        for tweet in api.search(q=text_query, count=count):\n",
    "\n",
    "          # Adding to list that contains all tweets\n",
    "          tweets.append((tweet.created_at,tweet.id,tweet.text))\n",
    "\n",
    "          # Creation of dataframe from tweets list\n",
    "          tweetsdf = pd.DataFrame(tweets,columns=['Datetime', 'Tweet Id', 'Text'])\n",
    "\n",
    "          # Converting dataframe to CSV\n",
    "          tweetsdf.to_csv('{}-tweets_by_text.csv'.format(text_query)) \n",
    "\n",
    "    except BaseException as e:\n",
    "        print('failed on_status,',str(e))\n",
    "        time.sleep(3)"
   ]
  },
  {
   "cell_type": "markdown",
   "metadata": {
    "colab_type": "text",
    "id": "wJcKa7Wrk_e2"
   },
   "source": [
    "## Query Function Calls\n",
    "Putting it all together and using functions created."
   ]
  },
  {
   "cell_type": "code",
   "execution_count": 11,
   "metadata": {
    "colab": {},
    "colab_type": "code",
    "id": "GT3fFlfhleIN"
   },
   "outputs": [],
   "source": [
    "# Input username to scrape tweets and name csv file\n",
    "# Max recent tweets pulls x amount of most recent tweets from that user\n",
    "username = 'podrascreer'\n",
    "count = 20\n",
    "\n",
    "# Calling function to turn username's past X amount of tweets into a CSV file\n",
    "username_tweets_to_csv(username, count)"
   ]
  },
  {
   "cell_type": "code",
   "execution_count": 12,
   "metadata": {
    "colab": {},
    "colab_type": "code",
    "id": "dgK3Am48leWF"
   },
   "outputs": [],
   "source": [
    "# Input search query to scrape tweets and name csv file\n",
    "# Max recent tweets pulls x amount of most recent tweets from that user\n",
    "text_query = '@sebastiancoates'\n",
    "count = 150\n",
    "\n",
    "# Calling function to query X amount of relevant tweets and create a CSV file\n",
    "text_query_to_csv(text_query, count)"
   ]
  },
  {
   "cell_type": "code",
   "execution_count": 13,
   "metadata": {},
   "outputs": [
    {
     "data": {
      "text/html": [
       "<div>\n",
       "<style scoped>\n",
       "    .dataframe tbody tr th:only-of-type {\n",
       "        vertical-align: middle;\n",
       "    }\n",
       "\n",
       "    .dataframe tbody tr th {\n",
       "        vertical-align: top;\n",
       "    }\n",
       "\n",
       "    .dataframe thead th {\n",
       "        text-align: right;\n",
       "    }\n",
       "</style>\n",
       "<table border=\"1\" class=\"dataframe\">\n",
       "  <thead>\n",
       "    <tr style=\"text-align: right;\">\n",
       "      <th></th>\n",
       "      <th>Unnamed: 0</th>\n",
       "      <th>Datetime</th>\n",
       "      <th>Tweet Id</th>\n",
       "      <th>Text</th>\n",
       "      <th>ReTweets</th>\n",
       "      <th>Favori</th>\n",
       "    </tr>\n",
       "  </thead>\n",
       "  <tbody>\n",
       "    <tr>\n",
       "      <th>0</th>\n",
       "      <td>0</td>\n",
       "      <td>2020-03-29 15:18:23</td>\n",
       "      <td>1244282766902116353</td>\n",
       "      <td>Ahora más que nunca, todos somos un mismo equi...</td>\n",
       "      <td>1</td>\n",
       "      <td>54</td>\n",
       "    </tr>\n",
       "    <tr>\n",
       "      <th>1</th>\n",
       "      <td>1</td>\n",
       "      <td>2020-03-24 18:30:43</td>\n",
       "      <td>1242519227556417537</td>\n",
       "      <td>Después del entreno, un poco de basket!🏀😀  Par...</td>\n",
       "      <td>26</td>\n",
       "      <td>325</td>\n",
       "    </tr>\n",
       "    <tr>\n",
       "      <th>2</th>\n",
       "      <td>2</td>\n",
       "      <td>2020-03-22 21:12:32</td>\n",
       "      <td>1241835174960267265</td>\n",
       "      <td>RT @AUFOficial: 💪🇺🇾⚽\\n#TodoElFútbolUnido\\n#YoM...</td>\n",
       "      <td>147</td>\n",
       "      <td>0</td>\n",
       "    </tr>\n",
       "    <tr>\n",
       "      <th>3</th>\n",
       "      <td>3</td>\n",
       "      <td>2020-03-17 12:18:32</td>\n",
       "      <td>1239888849410670592</td>\n",
       "      <td>¡A CUIDARSE JUNTOS PODEMOS!\\n\\n#Mequedoencasa ...</td>\n",
       "      <td>17</td>\n",
       "      <td>140</td>\n",
       "    </tr>\n",
       "    <tr>\n",
       "      <th>4</th>\n",
       "      <td>4</td>\n",
       "      <td>2020-03-12 18:40:51</td>\n",
       "      <td>1238173122693660672</td>\n",
       "      <td>Em caso de dúvidas ou de sintomas (tosse e feb...</td>\n",
       "      <td>143</td>\n",
       "      <td>769</td>\n",
       "    </tr>\n",
       "    <tr>\n",
       "      <th>5</th>\n",
       "      <td>5</td>\n",
       "      <td>2020-03-12 18:40:43</td>\n",
       "      <td>1238173089302790145</td>\n",
       "      <td>todos mais protegidos.\\nLava as mãos com água ...</td>\n",
       "      <td>36</td>\n",
       "      <td>234</td>\n",
       "    </tr>\n",
       "    <tr>\n",
       "      <th>6</th>\n",
       "      <td>6</td>\n",
       "      <td>2020-03-12 18:39:53</td>\n",
       "      <td>1238172879281369089</td>\n",
       "      <td>Os jogos estão suspensos, mas queremos todos v...</td>\n",
       "      <td>404</td>\n",
       "      <td>1834</td>\n",
       "    </tr>\n",
       "    <tr>\n",
       "      <th>7</th>\n",
       "      <td>7</td>\n",
       "      <td>2020-03-08 22:09:41</td>\n",
       "      <td>1236776128507006981</td>\n",
       "      <td>Bom trabalho da equipa +3!!  Buen trabajo del ...</td>\n",
       "      <td>29</td>\n",
       "      <td>368</td>\n",
       "    </tr>\n",
       "    <tr>\n",
       "      <th>8</th>\n",
       "      <td>8</td>\n",
       "      <td>2020-02-26 18:53:17</td>\n",
       "      <td>1232740432955789314</td>\n",
       "      <td>Tudo pronto para o jogo de amanhã!!💪🏻💪🏻#europa...</td>\n",
       "      <td>19</td>\n",
       "      <td>383</td>\n",
       "    </tr>\n",
       "    <tr>\n",
       "      <th>9</th>\n",
       "      <td>9</td>\n",
       "      <td>2020-02-21 20:55:11</td>\n",
       "      <td>1230959173984292864</td>\n",
       "      <td>RT @EuropaLeague: This team = 😍😍😍\\n\\n⭐️ Which ...</td>\n",
       "      <td>155</td>\n",
       "      <td>0</td>\n",
       "    </tr>\n",
       "    <tr>\n",
       "      <th>10</th>\n",
       "      <td>10</td>\n",
       "      <td>2020-02-20 21:40:54</td>\n",
       "      <td>1230608290721288192</td>\n",
       "      <td>Vitória importante, grande atitude de todos!! ...</td>\n",
       "      <td>68</td>\n",
       "      <td>1103</td>\n",
       "    </tr>\n",
       "    <tr>\n",
       "      <th>11</th>\n",
       "      <td>11</td>\n",
       "      <td>2020-02-16 22:01:31</td>\n",
       "      <td>1229163925721305088</td>\n",
       "      <td>Somos adversarios en la cancha pero unidos en ...</td>\n",
       "      <td>1017</td>\n",
       "      <td>6258</td>\n",
       "    </tr>\n",
       "    <tr>\n",
       "      <th>12</th>\n",
       "      <td>12</td>\n",
       "      <td>2020-02-10 13:12:30</td>\n",
       "      <td>1226856467569004544</td>\n",
       "      <td>Victoria en casa parabéns equipe!! +3 💪🏻💪🏻 htt...</td>\n",
       "      <td>22</td>\n",
       "      <td>418</td>\n",
       "    </tr>\n",
       "    <tr>\n",
       "      <th>13</th>\n",
       "      <td>13</td>\n",
       "      <td>2020-02-03 20:06:03</td>\n",
       "      <td>1224423826521513992</td>\n",
       "      <td>Doi sempre perder. Sabemos que devemos melhora...</td>\n",
       "      <td>40</td>\n",
       "      <td>548</td>\n",
       "    </tr>\n",
       "    <tr>\n",
       "      <th>14</th>\n",
       "      <td>14</td>\n",
       "      <td>2020-01-28 09:42:14</td>\n",
       "      <td>1222092511277125633</td>\n",
       "      <td>Lo más importante fue la victoria +3! 💪🏻💪🏻 htt...</td>\n",
       "      <td>26</td>\n",
       "      <td>512</td>\n",
       "    </tr>\n",
       "  </tbody>\n",
       "</table>\n",
       "</div>"
      ],
      "text/plain": [
       "    Unnamed: 0             Datetime             Tweet Id  \\\n",
       "0            0  2020-03-29 15:18:23  1244282766902116353   \n",
       "1            1  2020-03-24 18:30:43  1242519227556417537   \n",
       "2            2  2020-03-22 21:12:32  1241835174960267265   \n",
       "3            3  2020-03-17 12:18:32  1239888849410670592   \n",
       "4            4  2020-03-12 18:40:51  1238173122693660672   \n",
       "5            5  2020-03-12 18:40:43  1238173089302790145   \n",
       "6            6  2020-03-12 18:39:53  1238172879281369089   \n",
       "7            7  2020-03-08 22:09:41  1236776128507006981   \n",
       "8            8  2020-02-26 18:53:17  1232740432955789314   \n",
       "9            9  2020-02-21 20:55:11  1230959173984292864   \n",
       "10          10  2020-02-20 21:40:54  1230608290721288192   \n",
       "11          11  2020-02-16 22:01:31  1229163925721305088   \n",
       "12          12  2020-02-10 13:12:30  1226856467569004544   \n",
       "13          13  2020-02-03 20:06:03  1224423826521513992   \n",
       "14          14  2020-01-28 09:42:14  1222092511277125633   \n",
       "\n",
       "                                                 Text  ReTweets  Favori  \n",
       "0   Ahora más que nunca, todos somos un mismo equi...         1      54  \n",
       "1   Después del entreno, un poco de basket!🏀😀  Par...        26     325  \n",
       "2   RT @AUFOficial: 💪🇺🇾⚽\\n#TodoElFútbolUnido\\n#YoM...       147       0  \n",
       "3   ¡A CUIDARSE JUNTOS PODEMOS!\\n\\n#Mequedoencasa ...        17     140  \n",
       "4   Em caso de dúvidas ou de sintomas (tosse e feb...       143     769  \n",
       "5   todos mais protegidos.\\nLava as mãos com água ...        36     234  \n",
       "6   Os jogos estão suspensos, mas queremos todos v...       404    1834  \n",
       "7   Bom trabalho da equipa +3!!  Buen trabajo del ...        29     368  \n",
       "8   Tudo pronto para o jogo de amanhã!!💪🏻💪🏻#europa...        19     383  \n",
       "9   RT @EuropaLeague: This team = 😍😍😍\\n\\n⭐️ Which ...       155       0  \n",
       "10  Vitória importante, grande atitude de todos!! ...        68    1103  \n",
       "11  Somos adversarios en la cancha pero unidos en ...      1017    6258  \n",
       "12  Victoria en casa parabéns equipe!! +3 💪🏻💪🏻 htt...        22     418  \n",
       "13  Doi sempre perder. Sabemos que devemos melhora...        40     548  \n",
       "14  Lo más importante fue la victoria +3! 💪🏻💪🏻 htt...        26     512  "
      ]
     },
     "execution_count": 13,
     "metadata": {},
     "output_type": "execute_result"
    }
   ],
   "source": [
    "# data = pd.read_csv(\"sebastiancoates-tweets.csv\")\n",
    "# user_csv_file = text_query + \"-tweets_by_text.csv\"\n",
    "user_csv_file = username + \"-tweets_by_user.csv\"\n",
    "data = pd.read_csv(user_csv_file) \n",
    " \n",
    "# Preview the first 5 lines of the loaded data \n",
    "data.head(15)"
   ]
  },
  {
   "cell_type": "markdown",
   "metadata": {},
   "source": [
    "## Plotting time"
   ]
  },
  {
   "cell_type": "code",
   "execution_count": 17,
   "metadata": {
    "scrolled": true
   },
   "outputs": [
    {
     "data": {
      "image/png": "[encoded data removed]",
      "text/plain": [
       "<matplotlib.figure.Figure at 0x7fb650acfbe0>"
      ]
     },
     "metadata": {},
     "output_type": "display_data"
    }
   ],
   "source": [
    "# labels = ['G1', 'G2', 'G3', 'G4', 'G5']\n",
    "# men_means = [20, 34, 30, 35, 27]\n",
    "# women_means = [25, 32, 34, 20, 25]\n",
    "labels = np.array(range(20))\n",
    "# labels = data.Datetime.values\n",
    "retweets = data.ReTweets.values\n",
    "favs = data.Favori.values\n",
    "\n",
    "x = np.arange(len(labels))  # the label locations\n",
    "width = 0.35  # the width of the bars\n",
    "\n",
    "fig, ax = plt.subplots(figsize=(15,15))\n",
    "rects1 = ax.bar(x - width/2, retweets, width, label='Retweets')\n",
    "rects2 = ax.bar(x + width/2, favs, width, label='Favs')\n",
    "\n",
    "# Add some text for labels, title and custom x-axis tick labels, etc.\n",
    "ax.set_ylabel('Cantidad')\n",
    "ax.set_title('Cantidad de Retweets y favorites')\n",
    "ax.set_xticks(x)\n",
    "ax.set_xticklabels(labels)\n",
    "ax.legend()\n",
    "\n",
    "\n",
    "def autolabel(rects):\n",
    "    \"\"\"Attach a text label above each bar in *rects*, displaying its height.\"\"\"\n",
    "    for rect in rects:\n",
    "        height = rect.get_height()\n",
    "        ax.annotate('{}'.format(height),\n",
    "                    xy=(rect.get_x() + rect.get_width() / 2, height),\n",
    "                    xytext=(0, 3),  # 3 points vertical offset\n",
    "                    textcoords=\"offset points\",\n",
    "                    ha='center', va='bottom')\n",
    "\n",
    "\n",
    "autolabel(rects1)\n",
    "autolabel(rects2)\n",
    "\n",
    "fig.tight_layout()\n",
    "plt.show()"
   ]
  },
  {
   "cell_type": "markdown",
   "metadata": {},
   "source": [
    "## Testing place"
   ]
  },
  {
   "cell_type": "code",
   "execution_count": 15,
   "metadata": {
    "scrolled": true
   },
   "outputs": [
    {
     "data": {
      "text/plain": [
       "1"
      ]
     },
     "execution_count": 15,
     "metadata": {},
     "output_type": "execute_result"
    }
   ],
   "source": [
    "test_api = api.user_timeline(id=username, count=1)\n",
    "test_api[0].retweet_count"
   ]
  },
  {
   "cell_type": "code",
   "execution_count": 58,
   "metadata": {},
   "outputs": [
    {
     "name": "stdout",
     "output_type": "stream",
     "text": [
      "último tweet del seba:\n",
      "\n",
      "Uruguay\n",
      ":\n",
      "\n",
      "\n"
     ]
    }
   ],
   "source": [
    "print('último tweet del seba:\\n')\n",
    "\n",
    "print(test_api[3].user.locati\n",
    "print(':\\n')\n",
    "print()"
   ]
  },
  {
   "cell_type": "code",
   "execution_count": 26,
   "metadata": {},
   "outputs": [
    {
     "data": {
      "text/plain": [
       "User(_api=<tweepy.api.API object at 0x7fb653982d30>, _json={'id': 52160179, 'id_str': '52160179', 'name': 'Javier S', 'screen_name': 'dejavierto', 'location': 'Rivera, Uruguay', 'description': 'Solo en cines.', 'url': None, 'entities': {'description': {'urls': []}}, 'protected': False, 'followers_count': 77, 'friends_count': 296, 'listed_count': 1, 'created_at': 'Mon Jun 29 19:30:19 +0000 2009', 'favourites_count': 14249, 'utc_offset': None, 'time_zone': None, 'geo_enabled': True, 'verified': False, 'statuses_count': 2480, 'lang': None, 'status': {'created_at': 'Sun Mar 29 13:38:26 +0000 2020', 'id': 1244257612092387328, 'id_str': '1244257612092387328', 'text': 'RT @sallelorier: Creo que es un buen momento para que @salleloreal nos distraiga con alguna humorada', 'truncated': False, 'entities': {'hashtags': [], 'symbols': [], 'user_mentions': [{'screen_name': 'sallelorier', 'name': 'Dr. Salle Lorier', 'id': 408786542, 'id_str': '408786542', 'indices': [3, 15]}, {'screen_name': 'salleloreal', 'name': 'Dr. Salle Loreal', 'id': 1040762564353961989, 'id_str': '1040762564353961989', 'indices': [54, 66]}], 'urls': []}, 'source': '<a href=\"https://mobile.twitter.com\" rel=\"nofollow\">Twitter Web App</a>', 'in_reply_to_status_id': None, 'in_reply_to_status_id_str': None, 'in_reply_to_user_id': None, 'in_reply_to_user_id_str': None, 'in_reply_to_screen_name': None, 'geo': None, 'coordinates': None, 'place': None, 'contributors': None, 'retweeted_status': {'created_at': 'Sat Mar 28 19:11:16 +0000 2020', 'id': 1243978983915638784, 'id_str': '1243978983915638784', 'text': 'Creo que es un buen momento para que @salleloreal nos distraiga con alguna humorada', 'truncated': False, 'entities': {'hashtags': [], 'symbols': [], 'user_mentions': [{'screen_name': 'salleloreal', 'name': 'Dr. Salle Loreal', 'id': 1040762564353961989, 'id_str': '1040762564353961989', 'indices': [37, 49]}], 'urls': []}, 'source': '<a href=\"http://twitter.com/download/android\" rel=\"nofollow\">Twitter for Android</a>', 'in_reply_to_status_id': None, 'in_reply_to_status_id_str': None, 'in_reply_to_user_id': None, 'in_reply_to_user_id_str': None, 'in_reply_to_screen_name': None, 'geo': None, 'coordinates': None, 'place': None, 'contributors': None, 'is_quote_status': False, 'retweet_count': 324, 'favorite_count': 4464, 'favorited': False, 'retweeted': False, 'lang': 'es'}, 'is_quote_status': False, 'retweet_count': 324, 'favorite_count': 0, 'favorited': False, 'retweeted': False, 'lang': 'es'}, 'contributors_enabled': False, 'is_translator': False, 'is_translation_enabled': False, 'profile_background_color': '000000', 'profile_background_image_url': 'http://abs.twimg.com/images/themes/theme6/bg.gif', 'profile_background_image_url_https': 'https://abs.twimg.com/images/themes/theme6/bg.gif', 'profile_background_tile': False, 'profile_image_url': 'http://pbs.twimg.com/profile_images/2203554848/engranajes1_normal.jpg', 'profile_image_url_https': 'https://pbs.twimg.com/profile_images/2203554848/engranajes1_normal.jpg', 'profile_link_color': '000000', 'profile_sidebar_border_color': '000000', 'profile_sidebar_fill_color': '000000', 'profile_text_color': '000000', 'profile_use_background_image': False, 'has_extended_profile': False, 'default_profile': False, 'default_profile_image': False, 'following': True, 'live_following': False, 'follow_request_sent': False, 'notifications': False, 'muting': False, 'blocking': False, 'blocked_by': False, 'translator_type': 'none'}, id=52160179, id_str='52160179', name='Javier S', screen_name='dejavierto', location='Rivera, Uruguay', description='Solo en cines.', url=None, entities={'description': {'urls': []}}, protected=False, followers_count=77, friends_count=296, listed_count=1, created_at=datetime.datetime(2009, 6, 29, 19, 30, 19), favourites_count=14249, utc_offset=None, time_zone=None, geo_enabled=True, verified=False, statuses_count=2480, lang=None, status=Status(_api=<tweepy.api.API object at 0x7fb653982d30>, _json={'created_at': 'Sun Mar 29 13:38:26 +0000 2020', 'id': 1244257612092387328, 'id_str': '1244257612092387328', 'text': 'RT @sallelorier: Creo que es un buen momento para que @salleloreal nos distraiga con alguna humorada', 'truncated': False, 'entities': {'hashtags': [], 'symbols': [], 'user_mentions': [{'screen_name': 'sallelorier', 'name': 'Dr. Salle Lorier', 'id': 408786542, 'id_str': '408786542', 'indices': [3, 15]}, {'screen_name': 'salleloreal', 'name': 'Dr. Salle Loreal', 'id': 1040762564353961989, 'id_str': '1040762564353961989', 'indices': [54, 66]}], 'urls': []}, 'source': '<a href=\"https://mobile.twitter.com\" rel=\"nofollow\">Twitter Web App</a>', 'in_reply_to_status_id': None, 'in_reply_to_status_id_str': None, 'in_reply_to_user_id': None, 'in_reply_to_user_id_str': None, 'in_reply_to_screen_name': None, 'geo': None, 'coordinates': None, 'place': None, 'contributors': None, 'retweeted_status': {'created_at': 'Sat Mar 28 19:11:16 +0000 2020', 'id': 1243978983915638784, 'id_str': '1243978983915638784', 'text': 'Creo que es un buen momento para que @salleloreal nos distraiga con alguna humorada', 'truncated': False, 'entities': {'hashtags': [], 'symbols': [], 'user_mentions': [{'screen_name': 'salleloreal', 'name': 'Dr. Salle Loreal', 'id': 1040762564353961989, 'id_str': '1040762564353961989', 'indices': [37, 49]}], 'urls': []}, 'source': '<a href=\"http://twitter.com/download/android\" rel=\"nofollow\">Twitter for Android</a>', 'in_reply_to_status_id': None, 'in_reply_to_status_id_str': None, 'in_reply_to_user_id': None, 'in_reply_to_user_id_str': None, 'in_reply_to_screen_name': None, 'geo': None, 'coordinates': None, 'place': None, 'contributors': None, 'is_quote_status': False, 'retweet_count': 324, 'favorite_count': 4464, 'favorited': False, 'retweeted': False, 'lang': 'es'}, 'is_quote_status': False, 'retweet_count': 324, 'favorite_count': 0, 'favorited': False, 'retweeted': False, 'lang': 'es'}, created_at=datetime.datetime(2020, 3, 29, 13, 38, 26), id=1244257612092387328, id_str='1244257612092387328', text='RT @sallelorier: Creo que es un buen momento para que @salleloreal nos distraiga con alguna humorada', truncated=False, entities={'hashtags': [], 'symbols': [], 'user_mentions': [{'screen_name': 'sallelorier', 'name': 'Dr. Salle Lorier', 'id': 408786542, 'id_str': '408786542', 'indices': [3, 15]}, {'screen_name': 'salleloreal', 'name': 'Dr. Salle Loreal', 'id': 1040762564353961989, 'id_str': '1040762564353961989', 'indices': [54, 66]}], 'urls': []}, source='Twitter Web App', source_url='https://mobile.twitter.com', in_reply_to_status_id=None, in_reply_to_status_id_str=None, in_reply_to_user_id=None, in_reply_to_user_id_str=None, in_reply_to_screen_name=None, geo=None, coordinates=None, place=None, contributors=None, retweeted_status=Status(_api=<tweepy.api.API object at 0x7fb653982d30>, _json={'created_at': 'Sat Mar 28 19:11:16 +0000 2020', 'id': 1243978983915638784, 'id_str': '1243978983915638784', 'text': 'Creo que es un buen momento para que @salleloreal nos distraiga con alguna humorada', 'truncated': False, 'entities': {'hashtags': [], 'symbols': [], 'user_mentions': [{'screen_name': 'salleloreal', 'name': 'Dr. Salle Loreal', 'id': 1040762564353961989, 'id_str': '1040762564353961989', 'indices': [37, 49]}], 'urls': []}, 'source': '<a href=\"http://twitter.com/download/android\" rel=\"nofollow\">Twitter for Android</a>', 'in_reply_to_status_id': None, 'in_reply_to_status_id_str': None, 'in_reply_to_user_id': None, 'in_reply_to_user_id_str': None, 'in_reply_to_screen_name': None, 'geo': None, 'coordinates': None, 'place': None, 'contributors': None, 'is_quote_status': False, 'retweet_count': 324, 'favorite_count': 4464, 'favorited': False, 'retweeted': False, 'lang': 'es'}, created_at=datetime.datetime(2020, 3, 28, 19, 11, 16), id=1243978983915638784, id_str='1243978983915638784', text='Creo que es un buen momento para que @salleloreal nos distraiga con alguna humorada', truncated=False, entities={'hashtags': [], 'symbols': [], 'user_mentions': [{'screen_name': 'salleloreal', 'name': 'Dr. Salle Loreal', 'id': 1040762564353961989, 'id_str': '1040762564353961989', 'indices': [37, 49]}], 'urls': []}, source='Twitter for Android', source_url='http://twitter.com/download/android', in_reply_to_status_id=None, in_reply_to_status_id_str=None, in_reply_to_user_id=None, in_reply_to_user_id_str=None, in_reply_to_screen_name=None, geo=None, coordinates=None, place=None, contributors=None, is_quote_status=False, retweet_count=324, favorite_count=4464, favorited=False, retweeted=False, lang='es'), is_quote_status=False, retweet_count=324, favorite_count=0, favorited=False, retweeted=False, lang='es'), contributors_enabled=False, is_translator=False, is_translation_enabled=False, profile_background_color='000000', profile_background_image_url='http://abs.twimg.com/images/themes/theme6/bg.gif', profile_background_image_url_https='https://abs.twimg.com/images/themes/theme6/bg.gif', profile_background_tile=False, profile_image_url='http://pbs.twimg.com/profile_images/2203554848/engranajes1_normal.jpg', profile_image_url_https='https://pbs.twimg.com/profile_images/2203554848/engranajes1_normal.jpg', profile_link_color='000000', profile_sidebar_border_color='000000', profile_sidebar_fill_color='000000', profile_text_color='000000', profile_use_background_image=False, has_extended_profile=False, default_profile=False, default_profile_image=False, following=True, live_following=False, follow_request_sent=False, notifications=False, muting=False, blocking=False, blocked_by=False, translator_type='none')"
      ]
     },
     "execution_count": 26,
     "metadata": {},
     "output_type": "execute_result"
    }
   ],
   "source": [
    "tweet_data[0]"
   ]
  },
  {
   "cell_type": "code",
   "execution_count": 6,
   "metadata": {
    "scrolled": false
   },
   "outputs": [
    {
     "name": "stdout",
     "output_type": "stream",
     "text": [
      "Clara Reyes from ; -- with 118 followers\n",
      "Fabian Padula from ; -- with 61 followers\n",
      "vadesign from uruguay; -- with 152 followers\n",
      "CeciliaAguirrezabala from Uruguay; -- with 126 followers\n",
      "Agustín Menini from Montevideo, Uruguay; -- with 690 followers\n",
      "Pesto | Branding, Diseño y Estrategia from Uruguay; -- with 134 followers\n",
      "Gerardo Bartolomeo from Montevideo, Uruguay; -- with 219 followers\n",
      "Diego Díaz from Montevideo, Uruguay; -- with 81 followers\n",
      "Gonza Frevenza from ; -- with 14 followers\n",
      "Martín Peralta from Montevideo, Uruguay; -- with 57 followers\n",
      "Leo Sarro Press from Uruguay; -- with 25833 followers\n",
      "Guadalupe Moles from Uruguay; -- with 56 followers\n",
      "mateo acosta from Canelones, Uruguay; -- with 48 followers\n",
      "Fefi Rainaldi Redón from Montevideo; -- with 270 followers\n",
      "Patricio Gigli from ; -- with 2530 followers\n",
      "Nancy Cappelli Cerchi from Montevideo, Uruguay; -- with 699 followers\n",
      "Matías Prego from Montevideo, Uruguay; -- with 503 followers\n",
      "Mariana Morales from Uruguay; -- with 140 followers\n",
      "julieta lopez from ; -- with 9 followers\n",
      "Rafael Atijas from NYC; -- with 1875 followers\n",
      "{'uru': 14, 'otros': 1, 'no_loc': 5}\n",
      "137.0\n"
     ]
    }
   ],
   "source": [
    "tweet_data = api.followers(id=\"maurocos89\")\n",
    "locations = {'uru':0,'otros':0,'no_loc':0}\n",
    "potential_impact = []\n",
    "for follower in tweet_data:\n",
    "    \n",
    "    loc = follower.location\n",
    "    foll_followers = int(follower.followers_count)\n",
    "    \n",
    "    potential_impact.append(foll_followers)\n",
    "    print(follower.name + \" from \" + loc + \"; -- with \" + str(foll_followers) + \" followers\")\n",
    "    \n",
    "    if \"rugua\" in str(loc) or \"ontev\" in str(loc):\n",
    "#         print(loc)\n",
    "        locations['uru'] = int(locations['uru']) +1\n",
    "    elif not loc:\n",
    "        locations['no_loc'] = int(locations['no_loc']) +1\n",
    "    else:\n",
    "        locations['otros'] = int(locations['otros']) +1\n",
    "\n",
    "print(locations)\n",
    "print(np.median(potential_impact))    "
   ]
  },
  {
   "cell_type": "code",
   "execution_count": 9,
   "metadata": {},
   "outputs": [
    {
     "data": {
      "text/plain": [
       "1875"
      ]
     },
     "execution_count": 9,
     "metadata": {},
     "output_type": "execute_result"
    }
   ],
   "source": [
    "foll_followers"
   ]
  },
  {
   "cell_type": "code",
   "execution_count": 7,
   "metadata": {},
   "outputs": [],
   "source": [
    "total_followers = len(tweet_data) \n",
    "labels = []\n",
    "sizes = []\n",
    "for l,val in locations.items():\n",
    "    labels.append(l)\n",
    "    sizes.append(round(float(val/total_followers),3)*100)"
   ]
  },
  {
   "cell_type": "code",
   "execution_count": 8,
   "metadata": {},
   "outputs": [
    {
     "data": {
      "image/png": "[encoded data removed]",
      "text/plain": [
       "<matplotlib.figure.Figure at 0x7f6a49dcdf60>"
      ]
     },
     "metadata": {},
     "output_type": "display_data"
    }
   ],
   "source": [
    "# Pie chart, where the slices will be ordered and plotted counter-clockwise:\n",
    "# labels = 'Frogs', 'Hogs', 'Dogs', 'Logs'\n",
    "# sizes = [15, 30, 45, 10]\n",
    "# explode = (0, 0.1, 0, 0)  # only \"explode\" the 2nd slice (i.e. 'Hogs')\n",
    "\n",
    "fig1, ax1 = plt.subplots()\n",
    "ax1.pie(sizes, labels=labels, autopct='%1.1f%%',\n",
    "        shadow=True, startangle=90)\n",
    "ax1.axis('equal')  # Equal aspect ratio ensures that pie is drawn as a circle.\n",
    "\n",
    "plt.show()"
   ]
  },
  {
   "cell_type": "code",
   "execution_count": null,
   "metadata": {},
   "outputs": [],
   "source": []
  }
 ],
 "metadata": {
  "colab": {
   "collapsed_sections": [],
   "name": "Tweepy Twitter Scraper",
   "provenance": []
  },
  "kernelspec": {
   "display_name": "Python 3",
   "language": "python",
   "name": "python3"
  },
  "language_info": {
   "codemirror_mode": {
    "name": "ipython",
    "version": 3
   },
   "file_extension": ".py",
   "mimetype": "text/x-python",
   "name": "python",
   "nbconvert_exporter": "python",
   "pygments_lexer": "ipython3",
   "version": "3.6.4"
  }
 },
 "nbformat": 4,
 "nbformat_minor": 1
}
